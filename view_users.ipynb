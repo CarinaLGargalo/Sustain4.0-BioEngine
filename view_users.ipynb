{
 "cells": [
  {
   "cell_type": "markdown",
   "id": "5f36bb6b",
   "metadata": {},
   "source": [
    "# 🌿 Sustain 4.0 BioEngine - Visualização de Usuários\n",
    "\n",
    "Este notebook permite visualizar todos os usuários cadastrados no sistema Sustain 4.0 BioEngine através da leitura do arquivo `config.yaml` e apresentação dos dados em formato de DataFrame do pandas.\n",
    "\n",
    "## 📊 Funcionalidades:\n",
    "- Carregamento automático do arquivo de configuração\n",
    "- Exibição dos usuários em formato tabular\n",
    "- Análise básica dos dados de usuário\n",
    "- Informações sobre senhas hasheadas (segurança)"
   ]
  },
  {
   "cell_type": "markdown",
   "id": "315e24e0",
   "metadata": {},
   "source": [
    "## 1. 📚 Import Required Libraries"
   ]
  },
  {
   "cell_type": "code",
   "execution_count": 8,
   "id": "220e6161",
   "metadata": {},
   "outputs": [
    {
     "name": "stdout",
     "output_type": "stream",
     "text": [
      "📚 Bibliotecas importadas com sucesso!\n",
      "📅 Pandas version: 2.2.3\n",
      "🕐 Timestamp: 01/08/2025 01:04:09\n"
     ]
    }
   ],
   "source": [
    "# Import necessary libraries\n",
    "import pandas as pd\n",
    "import yaml\n",
    "from datetime import datetime\n",
    "import os\n",
    "\n",
    "# Display configurations for better output\n",
    "pd.set_option('display.max_columns', None)\n",
    "pd.set_option('display.width', None)\n",
    "pd.set_option('display.max_colwidth', 50)\n",
    "\n",
    "print(\"📚 Bibliotecas importadas com sucesso!\")\n",
    "print(f\"📅 Pandas version: {pd.__version__}\")\n",
    "print(f\"🕐 Timestamp: {datetime.now().strftime('%d/%m/%Y %H:%M:%S')}\")"
   ]
  },
  {
   "cell_type": "markdown",
   "id": "531807db",
   "metadata": {},
   "source": [
    "## 2. 📂 Load YAML Configuration File"
   ]
  },
  {
   "cell_type": "code",
   "execution_count": 9,
   "id": "96ed4923",
   "metadata": {},
   "outputs": [
    {
     "name": "stdout",
     "output_type": "stream",
     "text": [
      "✅ Arquivo config.yaml carregado com sucesso!\n",
      "📊 Estrutura do arquivo:\n",
      "   - Seções principais: ['cookie', 'credentials', 'preauthorized']\n",
      "👥 Total de usuários encontrados: 5\n"
     ]
    }
   ],
   "source": [
    "# Load YAML configuration file\n",
    "config_file = 'config.yaml'\n",
    "\n",
    "try:\n",
    "    # Check if file exists\n",
    "    if not os.path.exists(config_file):\n",
    "        raise FileNotFoundError(f\"Arquivo {config_file} não encontrado!\")\n",
    "    \n",
    "    # Load YAML content\n",
    "    with open(config_file, 'r', encoding='utf-8') as file:\n",
    "        config = yaml.safe_load(file)\n",
    "    \n",
    "    print(f\"✅ Arquivo {config_file} carregado com sucesso!\")\n",
    "    print(f\"📊 Estrutura do arquivo:\")\n",
    "    print(f\"   - Seções principais: {list(config.keys())}\")\n",
    "    \n",
    "    # Check if credentials section exists\n",
    "    if 'credentials' in config and 'usernames' in config['credentials']:\n",
    "        user_count = len(config['credentials']['usernames'])\n",
    "        print(f\"👥 Total de usuários encontrados: {user_count}\")\n",
    "    else:\n",
    "        print(\"⚠️ Seção de credenciais não encontrada!\")\n",
    "        \n",
    "except FileNotFoundError as e:\n",
    "    print(f\"❌ Erro: {e}\")\n",
    "    config = None\n",
    "except yaml.YAMLError as e:\n",
    "    print(f\"❌ Erro ao ler YAML: {e}\")\n",
    "    config = None\n",
    "except Exception as e:\n",
    "    print(f\"❌ Erro inesperado: {e}\")\n",
    "    config = None"
   ]
  },
  {
   "cell_type": "markdown",
   "id": "58df1b1c",
   "metadata": {},
   "source": [
    "## 3. 🔍 Extract User Data"
   ]
  },
  {
   "cell_type": "code",
   "execution_count": 10,
   "id": "e0ee621b",
   "metadata": {},
   "outputs": [
    {
     "name": "stdout",
     "output_type": "stream",
     "text": [
      "🔍 Extraindo dados dos usuários...\n",
      "📊 Usuários encontrados: ['Canutilho', 'admin', 'analista', 'demo', 'pesquisador']\n",
      "✅ Dados extraídos para 5 usuários!\n",
      "\n",
      "📋 Amostra dos dados extraídos:\n",
      "   1. Canutilho -> Augusto DC (audecan@gmail.com)\n",
      "   2. admin -> Administrador (admin@bioengine.com)\n",
      "   3. analista -> Analista (analista@bioengine.com)\n"
     ]
    }
   ],
   "source": [
    "# Extract user data from configuration\n",
    "if config and 'credentials' in config and 'usernames' in config['credentials']:\n",
    "    users_data = config['credentials']['usernames']\n",
    "    \n",
    "    print(\"🔍 Extraindo dados dos usuários...\")\n",
    "    print(f\"📊 Usuários encontrados: {list(users_data.keys())}\")\n",
    "    \n",
    "    # Process each user\n",
    "    user_list = []\n",
    "    for username, user_info in users_data.items():\n",
    "        # Extract user information\n",
    "        user_record = {\n",
    "            'username': username,\n",
    "            'name': user_info.get('name', 'N/A'),\n",
    "            'email': user_info.get('email', 'N/A'),\n",
    "            'password_hash': user_info.get('password', 'N/A'),\n",
    "            'user_type': '👑 Admin' if username == 'admin' else '👤 User',\n",
    "            'status': '🟢 Active'\n",
    "        }\n",
    "        user_list.append(user_record)\n",
    "    \n",
    "    print(f\"✅ Dados extraídos para {len(user_list)} usuários!\")\n",
    "    \n",
    "    # Display sample of extracted data\n",
    "    print(\"\\n📋 Amostra dos dados extraídos:\")\n",
    "    for i, user in enumerate(user_list[:3], 1):  # Show first 3 users\n",
    "        print(f\"   {i}. {user['username']} -> {user['name']} ({user['email']})\")\n",
    "        \n",
    "else:\n",
    "    print(\"❌ Não foi possível extrair dados dos usuários!\")\n",
    "    user_list = []"
   ]
  },
  {
   "cell_type": "markdown",
   "id": "c28f8bd5",
   "metadata": {},
   "source": [
    "## 4. 📊 Create Pandas DataFrame"
   ]
  },
  {
   "cell_type": "code",
   "execution_count": 11,
   "id": "2b93a70a",
   "metadata": {},
   "outputs": [
    {
     "name": "stdout",
     "output_type": "stream",
     "text": [
      "✅ DataFrame criado com sucesso!\n",
      "📊 Dimensões: 5 linhas x 7 colunas\n",
      "📋 Colunas: ['username', 'name', 'email', 'user_type', 'status', 'password_preview', 'created_date']\n"
     ]
    }
   ],
   "source": [
    "# Create pandas DataFrame from user data\n",
    "if user_list:\n",
    "    # Create DataFrame\n",
    "    df_users = pd.DataFrame(user_list)\n",
    "    \n",
    "    # Add some computed columns\n",
    "    df_users['password_preview'] = df_users['password_hash'].apply(\n",
    "        lambda x: x[:20] + '...' if x != 'N/A' else 'N/A'\n",
    "    )\n",
    "    df_users['created_date'] = datetime.now().strftime('%d/%m/%Y')\n",
    "    \n",
    "    # Reorder columns for better display\n",
    "    column_order = [\n",
    "        'username', \n",
    "        'name', \n",
    "        'email', \n",
    "        'user_type', \n",
    "        'status', \n",
    "        'password_preview',\n",
    "        'created_date'\n",
    "    ]\n",
    "    df_users = df_users[column_order]\n",
    "    \n",
    "    print(\"✅ DataFrame criado com sucesso!\")\n",
    "    print(f\"📊 Dimensões: {df_users.shape[0]} linhas x {df_users.shape[1]} colunas\")\n",
    "    print(f\"📋 Colunas: {list(df_users.columns)}\")\n",
    "    \n",
    "else:\n",
    "    print(\"❌ Não foi possível criar DataFrame - nenhum dado de usuário disponível!\")\n",
    "    df_users = pd.DataFrame()  # Empty DataFrame"
   ]
  },
  {
   "cell_type": "markdown",
   "id": "21ef99dd",
   "metadata": {},
   "source": [
    "## 5. 📈 Display and Analyze User Data"
   ]
  },
  {
   "cell_type": "code",
   "execution_count": 12,
   "id": "48beebc6",
   "metadata": {},
   "outputs": [
    {
     "name": "stdout",
     "output_type": "stream",
     "text": [
      "🌿 SUSTAIN 4.0 BIOENGINE - USUÁRIOS CADASTRADOS\n",
      "============================================================\n"
     ]
    },
    {
     "data": {
      "text/html": [
       "<div>\n",
       "<style scoped>\n",
       "    .dataframe tbody tr th:only-of-type {\n",
       "        vertical-align: middle;\n",
       "    }\n",
       "\n",
       "    .dataframe tbody tr th {\n",
       "        vertical-align: top;\n",
       "    }\n",
       "\n",
       "    .dataframe thead th {\n",
       "        text-align: right;\n",
       "    }\n",
       "</style>\n",
       "<table border=\"1\" class=\"dataframe\">\n",
       "  <thead>\n",
       "    <tr style=\"text-align: right;\">\n",
       "      <th></th>\n",
       "      <th>username</th>\n",
       "      <th>name</th>\n",
       "      <th>email</th>\n",
       "      <th>user_type</th>\n",
       "      <th>status</th>\n",
       "      <th>password_preview</th>\n",
       "      <th>created_date</th>\n",
       "    </tr>\n",
       "  </thead>\n",
       "  <tbody>\n",
       "    <tr>\n",
       "      <th>0</th>\n",
       "      <td>Canutilho</td>\n",
       "      <td>Augusto DC</td>\n",
       "      <td>audecan@gmail.com</td>\n",
       "      <td>👤 User</td>\n",
       "      <td>🟢 Active</td>\n",
       "      <td>$2b$12$y1AW4XeY0It4s...</td>\n",
       "      <td>01/08/2025</td>\n",
       "    </tr>\n",
       "    <tr>\n",
       "      <th>1</th>\n",
       "      <td>admin</td>\n",
       "      <td>Administrador</td>\n",
       "      <td>admin@bioengine.com</td>\n",
       "      <td>👑 Admin</td>\n",
       "      <td>🟢 Active</td>\n",
       "      <td>$2b$12$Oa5Olnt3gVAL4...</td>\n",
       "      <td>01/08/2025</td>\n",
       "    </tr>\n",
       "    <tr>\n",
       "      <th>2</th>\n",
       "      <td>analista</td>\n",
       "      <td>Analista</td>\n",
       "      <td>analista@bioengine.com</td>\n",
       "      <td>👤 User</td>\n",
       "      <td>🟢 Active</td>\n",
       "      <td>$2b$12$JzPZ9/9D5fyTM...</td>\n",
       "      <td>01/08/2025</td>\n",
       "    </tr>\n",
       "    <tr>\n",
       "      <th>3</th>\n",
       "      <td>demo</td>\n",
       "      <td>Demo User</td>\n",
       "      <td>demo@bioengine.com</td>\n",
       "      <td>👤 User</td>\n",
       "      <td>🟢 Active</td>\n",
       "      <td>$2b$12$vSQrAF95wa1RK...</td>\n",
       "      <td>01/08/2025</td>\n",
       "    </tr>\n",
       "    <tr>\n",
       "      <th>4</th>\n",
       "      <td>pesquisador</td>\n",
       "      <td>Pesquisador</td>\n",
       "      <td>pesquisador@bioengine.com</td>\n",
       "      <td>👤 User</td>\n",
       "      <td>🟢 Active</td>\n",
       "      <td>$2b$12$Zt/3YQuO6iyxB...</td>\n",
       "      <td>01/08/2025</td>\n",
       "    </tr>\n",
       "  </tbody>\n",
       "</table>\n",
       "</div>"
      ],
      "text/plain": [
       "      username           name                      email user_type    status  \\\n",
       "0    Canutilho     Augusto DC          audecan@gmail.com    👤 User  🟢 Active   \n",
       "1        admin  Administrador        admin@bioengine.com   👑 Admin  🟢 Active   \n",
       "2     analista       Analista     analista@bioengine.com    👤 User  🟢 Active   \n",
       "3         demo      Demo User         demo@bioengine.com    👤 User  🟢 Active   \n",
       "4  pesquisador    Pesquisador  pesquisador@bioengine.com    👤 User  🟢 Active   \n",
       "\n",
       "          password_preview created_date  \n",
       "0  $2b$12$y1AW4XeY0It4s...   01/08/2025  \n",
       "1  $2b$12$Oa5Olnt3gVAL4...   01/08/2025  \n",
       "2  $2b$12$JzPZ9/9D5fyTM...   01/08/2025  \n",
       "3  $2b$12$vSQrAF95wa1RK...   01/08/2025  \n",
       "4  $2b$12$Zt/3YQuO6iyxB...   01/08/2025  "
      ]
     },
     "metadata": {},
     "output_type": "display_data"
    }
   ],
   "source": [
    "# Display the complete DataFrame\n",
    "if not df_users.empty:\n",
    "    print(\"🌿 SUSTAIN 4.0 BIOENGINE - USUÁRIOS CADASTRADOS\")\n",
    "    print(\"=\" * 60)\n",
    "    \n",
    "    # Display the DataFrame\n",
    "    display(df_users)\n",
    "    \n",
    "else:\n",
    "    print(\"📭 Nenhum usuário encontrado para exibir.\")"
   ]
  },
  {
   "cell_type": "code",
   "execution_count": 13,
   "id": "679dc14d",
   "metadata": {},
   "outputs": [
    {
     "name": "stdout",
     "output_type": "stream",
     "text": [
      "\n",
      "📊 ANÁLISE DETALHADA DOS DADOS\n",
      "========================================\n",
      "📈 Informações Básicas:\n",
      "   • Total de usuários: 5\n",
      "   • Colunas disponíveis: 7\n",
      "   • Tipos de dados:\n",
      "     - username: object\n",
      "     - name: object\n",
      "     - email: object\n",
      "     - user_type: object\n",
      "     - status: object\n",
      "     - password_preview: object\n",
      "     - created_date: object\n",
      "\n",
      "👥 Distribuição por Tipo de Usuário:\n",
      "   • 👤 User: 4\n",
      "   • 👑 Admin: 1\n",
      "\n",
      "📧 Análise de Domínios de Email:\n",
      "   • bioengine.com: 4 usuário(s)\n",
      "   • gmail.com: 1 usuário(s)\n",
      "\n",
      "🟢 Status dos Usuários:\n",
      "   • 🟢 Active: 5\n",
      "\n",
      "🔐 Informações de Segurança:\n",
      "   • Todas as senhas estão hasheadas com bcrypt\n",
      "   • Hash médio de caracteres: ~60 caracteres\n",
      "   • Última atualização: 01/08/2025 01:04:09\n"
     ]
    }
   ],
   "source": [
    "# Detailed analysis and statistics\n",
    "if not df_users.empty:\n",
    "    print(\"\\n📊 ANÁLISE DETALHADA DOS DADOS\")\n",
    "    print(\"=\" * 40)\n",
    "    \n",
    "    # Basic info\n",
    "    print(f\"📈 Informações Básicas:\")\n",
    "    print(f\"   • Total de usuários: {len(df_users)}\")\n",
    "    print(f\"   • Colunas disponíveis: {len(df_users.columns)}\")\n",
    "    print(f\"   • Tipos de dados:\")\n",
    "    for col in df_users.columns:\n",
    "        print(f\"     - {col}: {df_users[col].dtype}\")\n",
    "    \n",
    "    # User type distribution\n",
    "    print(f\"\\n👥 Distribuição por Tipo de Usuário:\")\n",
    "    user_type_counts = df_users['user_type'].value_counts()\n",
    "    for user_type, count in user_type_counts.items():\n",
    "        print(f\"   • {user_type}: {count}\")\n",
    "    \n",
    "    # Email domains analysis\n",
    "    print(f\"\\n📧 Análise de Domínios de Email:\")\n",
    "    df_users['email_domain'] = df_users['email'].apply(\n",
    "        lambda x: x.split('@')[1] if '@' in str(x) else 'N/A'\n",
    "    )\n",
    "    domain_counts = df_users['email_domain'].value_counts()\n",
    "    for domain, count in domain_counts.items():\n",
    "        print(f\"   • {domain}: {count} usuário(s)\")\n",
    "    \n",
    "    # Status overview\n",
    "    print(f\"\\n🟢 Status dos Usuários:\")\n",
    "    status_counts = df_users['status'].value_counts()\n",
    "    for status, count in status_counts.items():\n",
    "        print(f\"   • {status}: {count}\")\n",
    "    \n",
    "    print(f\"\\n🔐 Informações de Segurança:\")\n",
    "    print(f\"   • Todas as senhas estão hasheadas com bcrypt\")\n",
    "    print(f\"   • Hash médio de caracteres: ~60 caracteres\")\n",
    "    print(f\"   • Última atualização: {datetime.now().strftime('%d/%m/%Y %H:%M:%S')}\")\n",
    "\n",
    "else:\n",
    "    print(\"📭 Sem dados para análise.\")"
   ]
  },
  {
   "cell_type": "markdown",
   "id": "10608399",
   "metadata": {},
   "source": [
    "## 6. 💾 Export Options and Summary\n",
    "\n",
    "Esta seção oferece opções para exportar os dados e um resumo final da análise."
   ]
  },
  {
   "cell_type": "code",
   "execution_count": 14,
   "id": "e82c96ac",
   "metadata": {},
   "outputs": [],
   "source": [
    "# # Export options and final summary\n",
    "# if not df_users.empty:\n",
    "#     print(\"💾 OPÇÕES DE EXPORTAÇÃO\")\n",
    "#     print(\"=\" * 30)\n",
    "    \n",
    "#     # Export to CSV\n",
    "#     csv_filename = f\"sustain40_users_{datetime.now().strftime('%Y%m%d_%H%M%S')}.csv\"\n",
    "#     df_users.to_csv(csv_filename, index=False, encoding='utf-8')\n",
    "#     print(f\"✅ Dados exportados para: {csv_filename}\")\n",
    "    \n",
    "#     # Export to Excel (optional)\n",
    "#     try:\n",
    "#         excel_filename = f\"sustain40_users_{datetime.now().strftime('%Y%m%d_%H%M%S')}.xlsx\"\n",
    "#         df_users.to_excel(excel_filename, index=False, engine='openpyxl')\n",
    "#         print(f\"✅ Dados exportados para: {excel_filename}\")\n",
    "#     except ImportError:\n",
    "#         print(\"⚠️ Para exportar para Excel, instale: pip install openpyxl\")\n",
    "    \n",
    "#     print(f\"\\n📋 RESUMO FINAL\")\n",
    "#     print(\"=\" * 20)\n",
    "#     print(f\"🌿 Sistema: Sustain 4.0 BioEngine\")\n",
    "#     print(f\"👥 Total de usuários: {len(df_users)}\")\n",
    "#     print(f\"🔐 Senhas protegidas: ✅\")\n",
    "#     print(f\"📊 DataFrame disponível na variável: df_users\")\n",
    "#     print(f\"📅 Análise realizada em: {datetime.now().strftime('%d/%m/%Y %H:%M:%S')}\")\n",
    "    \n",
    "#     # Final DataFrame reference\n",
    "#     print(f\"\\n🎯 Para acessar o DataFrame, use a variável: df_users\")\n",
    "#     print(f\"📖 Comandos úteis:\")\n",
    "#     print(f\"   • df_users.head() - Primeiras 5 linhas\")\n",
    "#     print(f\"   • df_users.info() - Informações do DataFrame\") \n",
    "#     print(f\"   • df_users.describe() - Estatísticas descritivas\")\n",
    "#     print(f\"   • df_users['column_name'] - Acessar coluna específica\")\n",
    "\n",
    "# else:\n",
    "#     print(\"📭 Nenhum dado disponível para exportação.\")"
   ]
  }
 ],
 "metadata": {
  "kernelspec": {
   "display_name": "Python 3",
   "language": "python",
   "name": "python3"
  },
  "language_info": {
   "codemirror_mode": {
    "name": "ipython",
    "version": 3
   },
   "file_extension": ".py",
   "mimetype": "text/x-python",
   "name": "python",
   "nbconvert_exporter": "python",
   "pygments_lexer": "ipython3",
   "version": "3.11.9"
  }
 },
 "nbformat": 4,
 "nbformat_minor": 5
}
